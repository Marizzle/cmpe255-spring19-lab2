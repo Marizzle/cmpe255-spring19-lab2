{
 "cells": [
  {
   "cell_type": "code",
   "execution_count": 1,
   "metadata": {},
   "outputs": [
    {
     "name": "stdout",
     "output_type": "stream",
     "text": [
      "Mean is: 35.5\n",
      "Median is 20.0\n"
     ]
    }
   ],
   "source": [
    "import math\n",
    "\n",
    "def mean_num_friends(x):\n",
    "    numerator = sum(x)\n",
    "    denominator = len(x)\n",
    "    print(\"Mean is: {}\".format(numerator/denominator))\n",
    "\n",
    "def median_num_friends(x):\n",
    "    sorted_friends = sorted(x)\n",
    "    is_even = len(sorted_friends)%2 == 0\n",
    "    if is_even:\n",
    "        index_1 = math.floor(len(sorted_friends)/2)\n",
    "        index_2 = index_1 + 1\n",
    "        mean_of_middle = sum(sorted_friends[index_1:index_2])/2\n",
    "        print(\"Median is {}\".format(mean_of_middle))\n",
    "    else:\n",
    "        half_index = int(len(sorted_friends)/2)\n",
    "        print(\"Median is {}\".format(sorted_friends[half_index]))\n",
    "\n",
    "num_friends=[100, 49, 41, 40, 25, 10, 5, 4, 7, 20, 60, 65]\n",
    "mean_num_friends(num_friends)\n",
    "median_num_friends(num_friends)\n",
    "\n",
    "\n"
   ]
  },
  {
   "cell_type": "code",
   "execution_count": null,
   "metadata": {},
   "outputs": [],
   "source": []
  },
  {
   "cell_type": "code",
   "execution_count": null,
   "metadata": {},
   "outputs": [],
   "source": []
  }
 ],
 "metadata": {
  "kernelspec": {
   "display_name": "Python 3",
   "language": "python",
   "name": "python3"
  },
  "language_info": {
   "codemirror_mode": {
    "name": "ipython",
    "version": 3
   },
   "file_extension": ".py",
   "mimetype": "text/x-python",
   "name": "python",
   "nbconvert_exporter": "python",
   "pygments_lexer": "ipython3",
   "version": "3.7.0"
  }
 },
 "nbformat": 4,
 "nbformat_minor": 2
}
